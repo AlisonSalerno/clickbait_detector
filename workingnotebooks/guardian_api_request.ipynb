{
 "cells": [
  {
   "cell_type": "code",
   "execution_count": 80,
   "metadata": {},
   "outputs": [],
   "source": [
    "guardian_key='your_key'\n",
    "import json"
   ]
  },
  {
   "cell_type": "code",
   "execution_count": 10,
   "metadata": {},
   "outputs": [],
   "source": [
    "import requests\n",
    "url='https://content.guardianapis.com/search?page=1&page-size=200&api-key=your_key'"
   ]
  },
  {
   "cell_type": "code",
   "execution_count": 11,
   "metadata": {},
   "outputs": [],
   "source": [
    "#testing response \n",
    "response=requests.get(url)"
   ]
  },
  {
   "cell_type": "code",
   "execution_count": 13,
   "metadata": {},
   "outputs": [],
   "source": [
    "#loading into json\n",
    "guardian_response=response.json()"
   ]
  },
  {
   "cell_type": "code",
   "execution_count": 25,
   "metadata": {},
   "outputs": [],
   "source": [
    "result_list=guardian_response['response']['results']"
   ]
  },
  {
   "cell_type": "code",
   "execution_count": 28,
   "metadata": {},
   "outputs": [
    {
     "data": {
      "text/plain": [
       "'Burnley v Watford: Premier League – live!'"
      ]
     },
     "execution_count": 28,
     "metadata": {},
     "output_type": "execute_result"
    }
   ],
   "source": [
    "#accessing headline\n",
    "result_list[0]['webTitle']"
   ]
  },
  {
   "cell_type": "code",
   "execution_count": 30,
   "metadata": {},
   "outputs": [
    {
     "data": {
      "text/plain": [
       "'2020-06-25T18:41:01Z'"
      ]
     },
     "execution_count": 30,
     "metadata": {},
     "output_type": "execute_result"
    }
   ],
   "source": [
    "#accessing date on test\n",
    "result_list[0]['webPublicationDate']"
   ]
  },
  {
   "cell_type": "code",
   "execution_count": 49,
   "metadata": {},
   "outputs": [],
   "source": [
    "#test to pull multiple pages\n",
    "# import requests\n",
    "\n",
    "# url='https://content.guardianapis.com/search?'\n",
    "# params = {\n",
    "#     \"api-key\": \"\",\n",
    "#     \"page-size\": \"200\" }\n",
    "\n",
    "# #cur=0\n",
    "# results=[]\n",
    "# for pi in range(1,16):\n",
    "#     params[\"page\"] = pi\n",
    "#     results.append(requests.get(url, params))\n",
    " "
   ]
  },
  {
   "cell_type": "code",
   "execution_count": 56,
   "metadata": {},
   "outputs": [],
   "source": [
    "# results_dicts = [] \n",
    "\n",
    "# for ele in range(len(results)):\n",
    "#     results_dicts.append(results[ele].json())"
   ]
  },
  {
   "cell_type": "code",
   "execution_count": 78,
   "metadata": {},
   "outputs": [],
   "source": [
    "#results_dicts"
   ]
  },
  {
   "cell_type": "code",
   "execution_count": 81,
   "metadata": {},
   "outputs": [],
   "source": [
    "#setting up function for guardian api call\n",
    "def guardian_call(params):\n",
    "    response = requests.get(url, params)\n",
    "    return json.loads(response.text)\n",
    "\n",
    "articles = guardian_call(params)"
   ]
  },
  {
   "cell_type": "code",
   "execution_count": 88,
   "metadata": {},
   "outputs": [
    {
     "data": {
      "text/plain": [
       "{'id': 'science/2020/jun/12/aubrey-burl-obituary',\n",
       " 'type': 'article',\n",
       " 'sectionId': 'books',\n",
       " 'sectionName': 'Books',\n",
       " 'webPublicationDate': '2020-06-12T16:56:58Z',\n",
       " 'webTitle': 'Aubrey Burl obituary',\n",
       " 'webUrl': 'https://www.theguardian.com/science/2020/jun/12/aubrey-burl-obituary',\n",
       " 'apiUrl': 'https://content.guardianapis.com/science/2020/jun/12/aubrey-burl-obituary',\n",
       " 'isHosted': False,\n",
       " 'pillarId': 'pillar/arts',\n",
       " 'pillarName': 'Arts'}"
      ]
     },
     "execution_count": 88,
     "metadata": {},
     "output_type": "execute_result"
    }
   ],
   "source": [
    "#test\n",
    "articles['response']['results'][0]"
   ]
  },
  {
   "cell_type": "code",
   "execution_count": 91,
   "metadata": {},
   "outputs": [],
   "source": [
    "#setting up function to parse results\n",
    "def parse_results(results):\n",
    "    # your code to parse the result to make them easier to insert into the DB\n",
    "    parsed_result=[]\n",
    "    for article in results:\n",
    "        article_list = [article['webTitle'],article['webPublicationDate']]\n",
    "        parsed_result.append(article_list)\n",
    "        \n",
    "            \n",
    "    return parsed_result"
   ]
  },
  {
   "cell_type": "code",
   "execution_count": 93,
   "metadata": {},
   "outputs": [],
   "source": [
    "#test\n",
    "x=parse_results(articles['response']['results'])"
   ]
  },
  {
   "cell_type": "code",
   "execution_count": 97,
   "metadata": {},
   "outputs": [
    {
     "data": {
      "text/html": [
       "<div>\n",
       "<style scoped>\n",
       "    .dataframe tbody tr th:only-of-type {\n",
       "        vertical-align: middle;\n",
       "    }\n",
       "\n",
       "    .dataframe tbody tr th {\n",
       "        vertical-align: top;\n",
       "    }\n",
       "\n",
       "    .dataframe thead th {\n",
       "        text-align: right;\n",
       "    }\n",
       "</style>\n",
       "<table border=\"1\" class=\"dataframe\">\n",
       "  <thead>\n",
       "    <tr style=\"text-align: right;\">\n",
       "      <th></th>\n",
       "      <th>0</th>\n",
       "      <th>1</th>\n",
       "    </tr>\n",
       "  </thead>\n",
       "  <tbody>\n",
       "    <tr>\n",
       "      <th>0</th>\n",
       "      <td>Aubrey Burl obituary</td>\n",
       "      <td>2020-06-12T16:56:58Z</td>\n",
       "    </tr>\n",
       "    <tr>\n",
       "      <th>1</th>\n",
       "      <td>Belgian transport minister in row over 34-mile...</td>\n",
       "      <td>2020-06-12T16:48:58Z</td>\n",
       "    </tr>\n",
       "    <tr>\n",
       "      <th>2</th>\n",
       "      <td>Amusement arcades furious after No 10 blocks r...</td>\n",
       "      <td>2020-06-12T16:44:33Z</td>\n",
       "    </tr>\n",
       "    <tr>\n",
       "      <th>3</th>\n",
       "      <td>JK Rowling: UK domestic abuse adviser writes t...</td>\n",
       "      <td>2020-06-12T16:43:50Z</td>\n",
       "    </tr>\n",
       "    <tr>\n",
       "      <th>4</th>\n",
       "      <td>London fashion week drops elitist traditions a...</td>\n",
       "      <td>2020-06-12T16:42:57Z</td>\n",
       "    </tr>\n",
       "  </tbody>\n",
       "</table>\n",
       "</div>"
      ],
      "text/plain": [
       "                                                   0                     1\n",
       "0                               Aubrey Burl obituary  2020-06-12T16:56:58Z\n",
       "1  Belgian transport minister in row over 34-mile...  2020-06-12T16:48:58Z\n",
       "2  Amusement arcades furious after No 10 blocks r...  2020-06-12T16:44:33Z\n",
       "3  JK Rowling: UK domestic abuse adviser writes t...  2020-06-12T16:43:50Z\n",
       "4  London fashion week drops elitist traditions a...  2020-06-12T16:42:57Z"
      ]
     },
     "execution_count": 97,
     "metadata": {},
     "output_type": "execute_result"
    }
   ],
   "source": [
    "#test, visualize api results in DF\n",
    "import pandas as pd\n",
    "pd.DataFrame(x).head()"
   ]
  },
  {
   "cell_type": "code",
   "execution_count": 98,
   "metadata": {},
   "outputs": [],
   "source": [
    "#creating a blank DF\n",
    "# Write a function to take your parsed data and insert it into CSV\n",
    "columns = ['text','date']\n",
    "df = pd.DataFrame(columns=columns) #blank df\n",
    "df.to_csv('guardian_headlines.csv')"
   ]
  },
  {
   "cell_type": "code",
   "execution_count": 99,
   "metadata": {},
   "outputs": [],
   "source": [
    "#creating a save function\n",
    "def data_save(parsed_results, csv_filename):\n",
    "    # your code to save the current results with all of the other results. \n",
    "    # I would save the data every time you pull 50 results\n",
    "    # in case something breaks in the process.\n",
    "    #reads in blank csv\n",
    "    existing=pd.read_csv(csv_filename,index_col=0)\n",
    "    #50 at a time DF\n",
    "    new = pd.DataFrame(parsed_results,columns=columns)\n",
    "    df = pd.concat([existing,new])\n",
    "    df.to_csv(csv_filename)"
   ]
  },
  {
   "cell_type": "code",
   "execution_count": 107,
   "metadata": {},
   "outputs": [],
   "source": [
    "#creating a script for calling from API, parsing results, saving results for each page\n",
    "# Write a script that combines the three functions above into a single process.\n",
    "\n",
    "# create a variable  to keep track of which result you are in. \n",
    "cur = 16\n",
    "\n",
    "#set up a while loop to go through and grab the result \n",
    "while cur < 19:\n",
    "    #set the offset parameter to be where you currently are in the results \n",
    "    params['page'] = cur\n",
    "    #make your API call with the new offset number\n",
    "    results = guardian_call(params)\n",
    "    \n",
    "    #after you get your results you can now use your function to parse those results\n",
    "    parsed_results = parse_results(results['response']['results'])\n",
    "    \n",
    "    \n",
    "    # use your function to insert your parsed results into the db\n",
    "    data_save(parsed_results, 'guardian_headlines.csv')\n",
    "    #increment the counter by 50 to move on to the next results\n",
    "    cur += 1"
   ]
  },
  {
   "cell_type": "code",
   "execution_count": 108,
   "metadata": {},
   "outputs": [],
   "source": [
    "guardian_df = pd.read_csv('guardian_headlines.csv',index_col=0)"
   ]
  },
  {
   "cell_type": "code",
   "execution_count": 109,
   "metadata": {},
   "outputs": [
    {
     "data": {
      "text/html": [
       "<div>\n",
       "<style scoped>\n",
       "    .dataframe tbody tr th:only-of-type {\n",
       "        vertical-align: middle;\n",
       "    }\n",
       "\n",
       "    .dataframe tbody tr th {\n",
       "        vertical-align: top;\n",
       "    }\n",
       "\n",
       "    .dataframe thead th {\n",
       "        text-align: right;\n",
       "    }\n",
       "</style>\n",
       "<table border=\"1\" class=\"dataframe\">\n",
       "  <thead>\n",
       "    <tr style=\"text-align: right;\">\n",
       "      <th></th>\n",
       "      <th>text</th>\n",
       "      <th>date</th>\n",
       "    </tr>\n",
       "  </thead>\n",
       "  <tbody>\n",
       "    <tr>\n",
       "      <th>0</th>\n",
       "      <td>Family court judges given power to intervene i...</td>\n",
       "      <td>2020-06-24T23:01:29Z</td>\n",
       "    </tr>\n",
       "    <tr>\n",
       "      <th>1</th>\n",
       "      <td>Children at RNIB schools and homes put at risk...</td>\n",
       "      <td>2020-06-24T23:01:29Z</td>\n",
       "    </tr>\n",
       "    <tr>\n",
       "      <th>2</th>\n",
       "      <td>Child abuse victims to sue Celtic FC in landma...</td>\n",
       "      <td>2020-06-24T23:01:28Z</td>\n",
       "    </tr>\n",
       "    <tr>\n",
       "      <th>3</th>\n",
       "      <td>Cryptic crossword No 28,169</td>\n",
       "      <td>2020-06-24T23:00:28Z</td>\n",
       "    </tr>\n",
       "    <tr>\n",
       "      <th>4</th>\n",
       "      <td>Trent Alexander-Arnold the spark for Liverpool...</td>\n",
       "      <td>2020-06-24T22:55:55Z</td>\n",
       "    </tr>\n",
       "    <tr>\n",
       "      <th>...</th>\n",
       "      <td>...</td>\n",
       "      <td>...</td>\n",
       "    </tr>\n",
       "    <tr>\n",
       "      <th>195</th>\n",
       "      <td>Jigsy review – Les Dennis sheds tears of a clo...</td>\n",
       "      <td>2020-06-09T13:01:21Z</td>\n",
       "    </tr>\n",
       "    <tr>\n",
       "      <th>196</th>\n",
       "      <td>What's the secret to great jollof rice? | Kitc...</td>\n",
       "      <td>2020-06-09T13:00:49Z</td>\n",
       "    </tr>\n",
       "    <tr>\n",
       "      <th>197</th>\n",
       "      <td>UK students: what impact is coronavirus having...</td>\n",
       "      <td>2020-06-09T12:39:15Z</td>\n",
       "    </tr>\n",
       "    <tr>\n",
       "      <th>198</th>\n",
       "      <td>IBM quits facial-recognition market over polic...</td>\n",
       "      <td>2020-06-09T12:37:27Z</td>\n",
       "    </tr>\n",
       "    <tr>\n",
       "      <th>199</th>\n",
       "      <td>George Floyd killing triggers wave of activism...</td>\n",
       "      <td>2020-06-09T12:36:30Z</td>\n",
       "    </tr>\n",
       "  </tbody>\n",
       "</table>\n",
       "<p>3400 rows × 2 columns</p>\n",
       "</div>"
      ],
      "text/plain": [
       "                                                  text                  date\n",
       "0    Family court judges given power to intervene i...  2020-06-24T23:01:29Z\n",
       "1    Children at RNIB schools and homes put at risk...  2020-06-24T23:01:29Z\n",
       "2    Child abuse victims to sue Celtic FC in landma...  2020-06-24T23:01:28Z\n",
       "3                          Cryptic crossword No 28,169  2020-06-24T23:00:28Z\n",
       "4    Trent Alexander-Arnold the spark for Liverpool...  2020-06-24T22:55:55Z\n",
       "..                                                 ...                   ...\n",
       "195  Jigsy review – Les Dennis sheds tears of a clo...  2020-06-09T13:01:21Z\n",
       "196  What's the secret to great jollof rice? | Kitc...  2020-06-09T13:00:49Z\n",
       "197  UK students: what impact is coronavirus having...  2020-06-09T12:39:15Z\n",
       "198  IBM quits facial-recognition market over polic...  2020-06-09T12:37:27Z\n",
       "199  George Floyd killing triggers wave of activism...  2020-06-09T12:36:30Z\n",
       "\n",
       "[3400 rows x 2 columns]"
      ]
     },
     "execution_count": 109,
     "metadata": {},
     "output_type": "execute_result"
    }
   ],
   "source": [
    "guardian_df"
   ]
  },
  {
   "cell_type": "code",
   "execution_count": null,
   "metadata": {},
   "outputs": [],
   "source": []
  }
 ],
 "metadata": {
  "kernelspec": {
   "display_name": "Python 3",
   "language": "python",
   "name": "python3"
  },
  "language_info": {
   "codemirror_mode": {
    "name": "ipython",
    "version": 3
   },
   "file_extension": ".py",
   "mimetype": "text/x-python",
   "name": "python",
   "nbconvert_exporter": "python",
   "pygments_lexer": "ipython3",
   "version": "3.7.4"
  }
 },
 "nbformat": 4,
 "nbformat_minor": 2
}
