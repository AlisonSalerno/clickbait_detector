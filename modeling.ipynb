{
 "cells": [
  {
   "cell_type": "code",
   "execution_count": 23,
   "metadata": {},
   "outputs": [],
   "source": [
    "import pandas as pd\n",
    "import seaborn as sns\n",
    "import matplotlib.pyplot as plt\n",
    "pd.set_option('display.max_columns',100)\n",
    "pd.set_option('display.max_rows',100)\n",
    "import numpy as np\n",
    "import warnings\n",
    "warnings.filterwarnings('ignore')\n",
    "\n",
    "import re\n",
    "\n",
    "from nltk.corpus import stopwords\n",
    "from nltk.tokenize import word_tokenize\n",
    "from nltk.probability import FreqDist\n",
    "from nltk.stem import PorterStemmer\n",
    "\n",
    "from sklearn.feature_extraction.text import CountVectorizer\n",
    "from sklearn.feature_extraction.text import TfidfVectorizer\n",
    "from sklearn.feature_extraction.text import TfidfTransformer\n",
    "\n",
    "from sklearn.metrics import confusion_matrix\n",
    "from sklearn.naive_bayes import MultinomialNB\n",
    "\n",
    "from sklearn.model_selection import train_test_split\n",
    "from sklearn.ensemble import RandomForestClassifier\n",
    "from sklearn.metrics import accuracy_score\n",
    "from sklearn.metrics import f1_score, recall_score\n",
    "\n",
    "from sklearn import svm\n",
    "from sklearn.svm import LinearSVC\n",
    "\n",
    "from sklearn.dummy import DummyClassifier\n",
    "\n",
    "\n",
    "from wordcloud import WordCloud, STOPWORDS\n",
    "\n",
    "import string\n",
    "from matplotlib import style"
   ]
  },
  {
   "cell_type": "code",
   "execution_count": 2,
   "metadata": {},
   "outputs": [],
   "source": [
    "#reading in cleand data with all headlines and engineered features \n",
    "#punctuation, non-alphabetical/non-numerical characters removed and links were scrubbed from the data\n",
    "#numbers were not removed due to prevalence of numbers in clickbait headlines\n",
    "\n",
    "df = pd.read_csv('with_engineeredfeat_data.csv',index_col=0)"
   ]
  },
  {
   "cell_type": "code",
   "execution_count": 5,
   "metadata": {},
   "outputs": [
    {
     "data": {
      "text/plain": [
       "(52127, 6)"
      ]
     },
     "execution_count": 5,
     "metadata": {},
     "output_type": "execute_result"
    }
   ],
   "source": [
    "df.shape"
   ]
  },
  {
   "cell_type": "code",
   "execution_count": 7,
   "metadata": {},
   "outputs": [
    {
     "data": {
      "text/plain": [
       "1    0.519309\n",
       "0    0.480691\n",
       "Name: class, dtype: float64"
      ]
     },
     "execution_count": 7,
     "metadata": {},
     "output_type": "execute_result"
    }
   ],
   "source": [
    "#Create stopwords list\n",
    "stopwords_list = stopwords.words('english')\n",
    "\n",
    "features = df.drop(columns='class')\n",
    "y = df['class']\n",
    "\n",
    "#classes are mostly balanced\n",
    "y.value_counts(normalize=True)"
   ]
  },
  {
   "cell_type": "markdown",
   "metadata": {},
   "source": [
    "## Setting up for modeling\n",
    "- applying TFIDF transformation to headline text\n",
    "- train/test split\n",
    "- creating function for results"
   ]
  },
  {
   "cell_type": "code",
   "execution_count": 177,
   "metadata": {},
   "outputs": [],
   "source": [
    "#first splitting data for test/train sets \n",
    "#ngram range -> unigrams and bigrams \n",
    "\n",
    "X_train, X_test, y_train, y_test = train_test_split(features, y, random_state=20)\n",
    "\n",
    "tfidf = TfidfVectorizer(stop_words = stopwords_list,ngram_range = (1,2))\n",
    "tfidf_text_train = tfidf.fit_transform(X_train['text'])\n",
    "tfidf_text_test = tfidf.transform(X_test['text'])\n",
    "\n",
    "X_train_ef = X_train.drop(columns='text')\n",
    "X_test_ef = X_test.drop(columns='text')"
   ]
  },
  {
   "cell_type": "code",
   "execution_count": 11,
   "metadata": {},
   "outputs": [
    {
     "data": {
      "text/plain": [
       "<13032x29664 sparse matrix of type '<class 'numpy.float64'>'\n",
       "\twith 84047 stored elements in Compressed Sparse Row format>"
      ]
     },
     "execution_count": 11,
     "metadata": {},
     "output_type": "execute_result"
    }
   ],
   "source": []
  },
  {
   "cell_type": "code",
   "execution_count": 178,
   "metadata": {},
   "outputs": [],
   "source": [
    "#combine tf-idf vectors with the engineered features and store as sparse arrays\n",
    "from scipy import sparse\n",
    "\n",
    "X_train = sparse.hstack([X_train_ef, tfidf_text_train]).tocsr()\n",
    "X_test = sparse.hstack([X_test_ef, tfidf_text_test]).tocsr()\n",
    "\n"
   ]
  },
  {
   "cell_type": "code",
   "execution_count": 179,
   "metadata": {},
   "outputs": [
    {
     "data": {
      "text/plain": [
       "(39095, 203136)"
      ]
     },
     "execution_count": 179,
     "metadata": {},
     "output_type": "execute_result"
    }
   ],
   "source": [
    "X_train.shape"
   ]
  },
  {
   "cell_type": "code",
   "execution_count": 180,
   "metadata": {},
   "outputs": [
    {
     "data": {
      "text/plain": [
       "(13032, 203136)"
      ]
     },
     "execution_count": 180,
     "metadata": {},
     "output_type": "execute_result"
    }
   ],
   "source": [
    "X_test.shape"
   ]
  },
  {
   "cell_type": "code",
   "execution_count": 24,
   "metadata": {},
   "outputs": [],
   "source": [
    "#creating a function to call after each model iteration to print accuracy and recall scores for test and train\n",
    "def train_results(preds):\n",
    "    return \"Training Accuracy:\", accuracy_score(y_train,preds),\" Training Recall:\", recall_score(y_train,preds)\n",
    "\n",
    "def test_results(preds):\n",
    "    return \"Testing Accuracy:\", accuracy_score(y_test,preds),\" Testing Recall:\", recall_score(y_test,preds)"
   ]
  },
  {
   "cell_type": "markdown",
   "metadata": {},
   "source": [
    "### Dummy Classifier"
   ]
  },
  {
   "cell_type": "code",
   "execution_count": 26,
   "metadata": {},
   "outputs": [
    {
     "name": "stdout",
     "output_type": "stream",
     "text": [
      "('Training Accuracy:', 0.5179946284691137, ' Training Recall:', 1.0)\n",
      "('Testing Accuracy:', 0.5232504604051565, ' Testing Recall:', 1.0)\n"
     ]
    }
   ],
   "source": [
    "#baseline model to predict majority class\n",
    "dc_classifier = DummyClassifier(strategy='most_frequent')\n",
    "\n",
    "dc_classifier.fit(X_train, y_train)\n",
    "\n",
    "dc_train_preds = dc_classifier.predict(X_train)\n",
    "dc_test_preds = dc_classifier.predict(X_test)\n",
    "\n",
    "print(train_results(dc_train_preds))\n",
    "print(test_results(dc_test_preds))"
   ]
  },
  {
   "cell_type": "code",
   "execution_count": 62,
   "metadata": {},
   "outputs": [
    {
     "data": {
      "image/png": "[encoded data removed]",
      "text/plain": [
       "<Figure size 432x288 with 1 Axes>"
      ]
     },
     "metadata": {},
     "output_type": "display_data"
    }
   ],
   "source": [
    "#confusion matrix on test set Dummy Classifier\n",
    "sns.set()\n",
    "\n",
    "cm_dc = confusion_matrix(y_test, dc_test_preds)\n",
    "sns.heatmap(cm_dc.T, square=True, annot=True, fmt='d', cbar=False,cmap=\"inferno\", xticklabels=['non-clickbait','clickbait'],yticklabels=['non-clickbait','clickbait']\n",
    "            )\n",
    "plt.xlabel('true label')\n",
    "plt.ylabel('predicted label');"
   ]
  },
  {
   "cell_type": "markdown",
   "metadata": {},
   "source": [
    "### Naive Bayes "
   ]
  },
  {
   "cell_type": "code",
   "execution_count": 239,
   "metadata": {},
   "outputs": [
    {
     "name": "stdout",
     "output_type": "stream",
     "text": [
      "('Training Accuracy:', 0.9986699066376774, ' Training Recall:', 0.9992099155597255)\n",
      "('Testing Accuracy:', 0.9300184162062615, ' Testing Recall:', 0.9416336706261915)\n"
     ]
    }
   ],
   "source": [
    "nb_classifier = MultinomialNB(alpha = .05)\n",
    "\n",
    "nb_classifier.fit(X_train, y_train)\n",
    "\n",
    "nb_train_preds = nb_classifier.predict(X_train)\n",
    "nb_test_preds = nb_classifier.predict(X_test)\n",
    "\n",
    "print(train_results(nb_train_preds))\n",
    "print(test_results(nb_test_preds))"
   ]
  },
  {
   "cell_type": "code",
   "execution_count": 240,
   "metadata": {},
   "outputs": [
    {
     "data": {
      "image/png": "[encoded data removed]",
      "text/plain": [
       "<Figure size 432x288 with 1 Axes>"
      ]
     },
     "metadata": {},
     "output_type": "display_data"
    }
   ],
   "source": [
    "#confusion matrix on test set NB Classifier\n",
    "sns.set()\n",
    "\n",
    "cm_dc = confusion_matrix(y_test, nb_test_preds)\n",
    "sns.heatmap(cm_dc.T, square=True, annot=True, fmt='d', cbar=False,cmap=\"inferno\", xticklabels=['non-clickbait','clickbait'],yticklabels=['non-clickbait','clickbait']\n",
    "            )\n",
    "plt.xlabel('true label')\n",
    "plt.ylabel('predicted label');"
   ]
  },
  {
   "cell_type": "markdown",
   "metadata": {},
   "source": [
    "### Random Forest Classifier "
   ]
  },
  {
   "cell_type": "code",
   "execution_count": 223,
   "metadata": {},
   "outputs": [
    {
     "name": "stdout",
     "output_type": "stream",
     "text": [
      "('Training Accuracy:', 1.0, ' Training Recall:', 1.0)\n",
      "('Testing Accuracy:', 0.906000613873542, ' Testing Recall:', 0.9325414283619299)\n"
     ]
    }
   ],
   "source": [
    "#rf_classifier = RandomForestClassifier(class_weight = 'balanced', n_estimators = 900 )\n",
    "rf_classifier = RandomForestClassifier(class_weight = 'balanced' )\n",
    "rf_classifier.fit(X_train, y_train)\n",
    "\n",
    "rf_test_preds = rf_classifier.predict(X_test)\n",
    "rf_train_preds = rf_classifier.predict(X_train)\n",
    "\n",
    "print(train_results(rf_train_preds))\n",
    "print(test_results(rf_test_preds))"
   ]
  },
  {
   "cell_type": "code",
   "execution_count": 73,
   "metadata": {},
   "outputs": [
    {
     "data": {
      "image/png": "[encoded data removed]",
      "text/plain": [
       "<Figure size 432x288 with 1 Axes>"
      ]
     },
     "metadata": {},
     "output_type": "display_data"
    }
   ],
   "source": [
    "#confusion matrix on test set RFC Classifier (no grid search)\n",
    "sns.set()\n",
    "\n",
    "cm_dc = confusion_matrix(y_test, rf_test_preds)\n",
    "sns.heatmap(cm_dc.T, square=True, annot=True, fmt='d', cbar=False,cmap=\"inferno\", xticklabels=['non-clickbait','clickbait'],yticklabels=['non-clickbait','clickbait']\n",
    "            )\n",
    "plt.xlabel('true label')\n",
    "plt.ylabel('predicted label');"
   ]
  },
  {
   "cell_type": "code",
   "execution_count": 81,
   "metadata": {},
   "outputs": [],
   "source": [
    "#RFC is slightly overfitting, re-running with Gridsearch \n",
    "from sklearn.model_selection import GridSearchCV\n",
    "\n",
    "rfc_grid = RandomForestClassifier(class_weight='balanced')\n",
    "\n",
    "param_grid_rfc={\n",
    "    'max_depth': [200,300],\n",
    "    'n_estimators': [800,900],\n",
    "}"
   ]
  },
  {
   "cell_type": "code",
   "execution_count": 82,
   "metadata": {},
   "outputs": [
    {
     "name": "stdout",
     "output_type": "stream",
     "text": [
      "Fitting 2 folds for each of 4 candidates, totalling 8 fits\n"
     ]
    },
    {
     "name": "stderr",
     "output_type": "stream",
     "text": [
      "[Parallel(n_jobs=-1)]: Using backend LokyBackend with 4 concurrent workers.\n",
      "[Parallel(n_jobs=-1)]: Done   8 out of   8 | elapsed: 21.6min finished\n"
     ]
    },
    {
     "data": {
      "text/plain": [
       "GridSearchCV(cv=2, error_score=nan,\n",
       "             estimator=RandomForestClassifier(bootstrap=True, ccp_alpha=0.0,\n",
       "                                              class_weight='balanced',\n",
       "                                              criterion='gini', max_depth=None,\n",
       "                                              max_features='auto',\n",
       "                                              max_leaf_nodes=None,\n",
       "                                              max_samples=None,\n",
       "                                              min_impurity_decrease=0.0,\n",
       "                                              min_impurity_split=None,\n",
       "                                              min_samples_leaf=1,\n",
       "                                              min_samples_split=2,\n",
       "                                              min_weight_fraction_leaf=0.0,\n",
       "                                              n_estimators=100, n_jobs=None,\n",
       "                                              oob_score=False,\n",
       "                                              random_state=None, verbose=0,\n",
       "                                              warm_start=False),\n",
       "             iid='deprecated', n_jobs=-1,\n",
       "             param_grid={'max_depth': [200, 300], 'n_estimators': [800, 900]},\n",
       "             pre_dispatch='2*n_jobs', refit=True, return_train_score=False,\n",
       "             scoring='accuracy', verbose=1)"
      ]
     },
     "execution_count": 82,
     "metadata": {},
     "output_type": "execute_result"
    }
   ],
   "source": [
    "grid_rfc=GridSearchCV(rfc_grid,param_grid_rfc,cv=2,scoring='accuracy',n_jobs=-1,verbose=1)\n",
    "grid_rfc.fit(X_train,y_train)"
   ]
  },
  {
   "cell_type": "code",
   "execution_count": 83,
   "metadata": {},
   "outputs": [
    {
     "name": "stdout",
     "output_type": "stream",
     "text": [
      "0.8902161780472577\n",
      "{'max_depth': 300, 'n_estimators': 900}\n",
      "RandomForestClassifier(bootstrap=True, ccp_alpha=0.0, class_weight='balanced',\n",
      "                       criterion='gini', max_depth=300, max_features='auto',\n",
      "                       max_leaf_nodes=None, max_samples=None,\n",
      "                       min_impurity_decrease=0.0, min_impurity_split=None,\n",
      "                       min_samples_leaf=1, min_samples_split=2,\n",
      "                       min_weight_fraction_leaf=0.0, n_estimators=900,\n",
      "                       n_jobs=None, oob_score=False, random_state=None,\n",
      "                       verbose=0, warm_start=False)\n"
     ]
    }
   ],
   "source": [
    "#function to get best model stats after running gridsearch\n",
    "def examinebestmodel(model_name):\n",
    "    print(model_name.best_score_)\n",
    "    print(model_name.best_params_)\n",
    "    print(model_name.best_estimator_)\n",
    "examinebestmodel(grid_rfc)"
   ]
  },
  {
   "cell_type": "code",
   "execution_count": 84,
   "metadata": {},
   "outputs": [
    {
     "name": "stdout",
     "output_type": "stream",
     "text": [
      "('Training Accuracy:', 0.9722215117022637, ' Training Recall:', 0.9474593847217422)\n",
      "('Testing Accuracy:', 0.9014732965009208, ' Testing Recall:', 0.9029183164686905)\n"
     ]
    }
   ],
   "source": [
    "rf_g_test_preds=grid_rfc.best_estimator_.predict(X_test)\n",
    "rf_g_train_preds=grid_rfc.best_estimator_.predict(X_train)\n",
    "\n",
    "\n",
    "print(train_results(rf_g_train_preds))\n",
    "print(test_results(rf_g_test_preds))"
   ]
  },
  {
   "cell_type": "markdown",
   "metadata": {},
   "source": [
    "### SVM"
   ]
  },
  {
   "cell_type": "code",
   "execution_count": 242,
   "metadata": {},
   "outputs": [
    {
     "name": "stdout",
     "output_type": "stream",
     "text": [
      "('Training Accuracy:', 0.999872106407469, ' Training Recall:', 0.9997530986124142)\n",
      "('Testing Accuracy:', 0.9323204419889503, ' Testing Recall:', 0.9260888693356797)\n"
     ]
    },
    {
     "data": {
      "image/png": "[encoded data removed]",
      "text/plain": [
       "<Figure size 432x288 with 1 Axes>"
      ]
     },
     "metadata": {},
     "output_type": "display_data"
    }
   ],
   "source": [
    "#SVM Model\n",
    "#svm_classifier = svm.SVC(kernel = 'linear', decision_function_shape='ovo')\n",
    "svm_classifier = LinearSVC(class_weight='balanced', C=10, max_iter = 1500 )\n",
    "\n",
    "svm_classifier.fit(X_train, y_train)\n",
    "\n",
    "svm_test_preds = svm_classifier.predict(X_test)\n",
    "svm_train_preds = svm_classifier.predict(X_train)\n",
    "\n",
    "print(train_results(svm_train_preds))\n",
    "print(test_results(svm_test_preds))\n",
    "\n",
    "#confusion matrix on test set SVM Classifier \n",
    "sns.set()\n",
    "\n",
    "cm_dc = confusion_matrix(y_test, svm_test_preds)\n",
    "sns.heatmap(cm_dc.T, square=True, annot=True, fmt='d', cbar=False,cmap=\"inferno\", xticklabels=['non-clickbait','clickbait'],yticklabels=['non-clickbait','clickbait']\n",
    "            )\n",
    "plt.xlabel('true label')\n",
    "plt.ylabel('predicted label');"
   ]
  },
  {
   "cell_type": "markdown",
   "metadata": {},
   "source": [
    "### Logistic Regression"
   ]
  },
  {
   "cell_type": "code",
   "execution_count": 270,
   "metadata": {},
   "outputs": [
    {
     "name": "stdout",
     "output_type": "stream",
     "text": [
      "('Training Accuracy:', 0.999872106407469, ' Training Recall:', 0.9997530986124142)\n",
      "('Testing Accuracy:', 0.9310159607120934, ' Testing Recall:', 0.9241824314415603)\n"
     ]
    },
    {
     "data": {
      "image/png": "[encoded data removed]",
      "text/plain": [
       "<Figure size 432x288 with 1 Axes>"
      ]
     },
     "metadata": {},
     "output_type": "display_data"
    }
   ],
   "source": [
    "from sklearn.linear_model import LogisticRegression\n",
    "lr = LogisticRegression(C=500, class_weight = 'balanced', solver = 'liblinear', tol=0.0001)\n",
    "\n",
    "lr.fit(X_train,y_train)\n",
    "\n",
    "lr_train_preds = lr.predict(X_train)\n",
    "lr_test_preds = lr.predict(X_test)\n",
    "\n",
    "print(train_results(lr_train_preds))\n",
    "print(test_results(lr_test_preds))\n",
    "\n",
    "#confusion matrix on test set lr Classifier \n",
    "sns.set()\n",
    "\n",
    "cm_dc = confusion_matrix(y_test, lr_test_preds)\n",
    "sns.heatmap(cm_dc.T, square=True, annot=True, fmt='d', cbar=False,cmap=\"inferno\", xticklabels=['non-clickbait','clickbait'],yticklabels=['non-clickbait','clickbait']\n",
    "            )\n",
    "plt.xlabel('true label')\n",
    "plt.ylabel('predicted label');"
   ]
  },
  {
   "cell_type": "markdown",
   "metadata": {},
   "source": [
    "### XGBoost"
   ]
  },
  {
   "cell_type": "code",
   "execution_count": 272,
   "metadata": {},
   "outputs": [
    {
     "name": "stdout",
     "output_type": "stream",
     "text": [
      "('Testing Accuracy:', 0.8566605279312461, ' Testing Recall:', 0.8558439653908197)\n",
      "('Training Accuracy:', 0.8834122010487274, ' Training Recall:', 0.8654387437657399)\n"
     ]
    },
    {
     "data": {
      "image/png": "[encoded data removed]",
      "text/plain": [
       "<Figure size 432x288 with 1 Axes>"
      ]
     },
     "metadata": {},
     "output_type": "display_data"
    }
   ],
   "source": [
    "from xgboost import XGBClassifier\n",
    "\n",
    "xgb_clf = XGBClassifier()\n",
    "xgb_clf.fit(X_train, y_train)\n",
    "xgb_test_preds = xgb_clf.predict(X_test)\n",
    "xgb_train_preds = xgb_clf.predict(X_train)\n",
    "\n",
    "#print(train_results(lr_train_preds))\n",
    "print(test_results(xgb_test_preds))\n",
    "print(train_results(xgb_train_preds))\n",
    "#confusion matrix on test set xgboost Classifier \n",
    "sns.set()\n",
    "\n",
    "cm_dc = confusion_matrix(y_test, xgb_test_preds)\n",
    "sns.heatmap(cm_dc.T, square=True, annot=True, fmt='d', cbar=False,cmap=\"inferno\", xticklabels=['non-clickbait','clickbait'],yticklabels=['non-clickbait','clickbait']\n",
    "            )\n",
    "plt.xlabel('true label')\n",
    "plt.ylabel('predicted label');"
   ]
  },
  {
   "cell_type": "code",
   "execution_count": null,
   "metadata": {},
   "outputs": [],
   "source": []
  }
 ],
 "metadata": {
  "kernelspec": {
   "display_name": "Python 3",
   "language": "python",
   "name": "python3"
  },
  "language_info": {
   "codemirror_mode": {
    "name": "ipython",
    "version": 3
   },
   "file_extension": ".py",
   "mimetype": "text/x-python",
   "name": "python",
   "nbconvert_exporter": "python",
   "pygments_lexer": "ipython3",
   "version": "3.7.4"
  }
 },
 "nbformat": 4,
 "nbformat_minor": 2
}
